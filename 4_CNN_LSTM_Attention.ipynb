{
  "nbformat": 4,
  "nbformat_minor": 0,
  "metadata": {
    "colab": {
      "name": "4_CNN_LSTM_Attention.ipynb",
      "provenance": [],
      "collapsed_sections": []
    },
    "kernelspec": {
      "name": "python3",
      "display_name": "Python 3"
    },
    "language_info": {
      "name": "python"
    },
    "accelerator": "GPU",
    "widgets": {
      "application/vnd.jupyter.widget-state+json": {
        "83cda0d67b134d07a63d42080b0ca2b7": {
          "model_module": "@jupyter-widgets/controls",
          "model_name": "HBoxModel",
          "state": {
            "_view_name": "HBoxView",
            "_dom_classes": [],
            "_model_name": "HBoxModel",
            "_view_module": "@jupyter-widgets/controls",
            "_model_module_version": "1.5.0",
            "_view_count": null,
            "_view_module_version": "1.5.0",
            "box_style": "",
            "layout": "IPY_MODEL_b76bf7e35d324b93befe39723e074d75",
            "_model_module": "@jupyter-widgets/controls",
            "children": [
              "IPY_MODEL_b666dc35c08c4102b511775e7037bb52",
              "IPY_MODEL_e65f546fbcb340ae89deb2700a666bd8"
            ]
          }
        },
        "b76bf7e35d324b93befe39723e074d75": {
          "model_module": "@jupyter-widgets/base",
          "model_name": "LayoutModel",
          "state": {
            "_view_name": "LayoutView",
            "grid_template_rows": null,
            "right": null,
            "justify_content": null,
            "_view_module": "@jupyter-widgets/base",
            "overflow": null,
            "_model_module_version": "1.2.0",
            "_view_count": null,
            "flex_flow": null,
            "width": null,
            "min_width": null,
            "border": null,
            "align_items": null,
            "bottom": null,
            "_model_module": "@jupyter-widgets/base",
            "top": null,
            "grid_column": null,
            "overflow_y": null,
            "overflow_x": null,
            "grid_auto_flow": null,
            "grid_area": null,
            "grid_template_columns": null,
            "flex": null,
            "_model_name": "LayoutModel",
            "justify_items": null,
            "grid_row": null,
            "max_height": null,
            "align_content": null,
            "visibility": null,
            "align_self": null,
            "height": null,
            "min_height": null,
            "padding": null,
            "grid_auto_rows": null,
            "grid_gap": null,
            "max_width": null,
            "order": null,
            "_view_module_version": "1.2.0",
            "grid_template_areas": null,
            "object_position": null,
            "object_fit": null,
            "grid_auto_columns": null,
            "margin": null,
            "display": null,
            "left": null
          }
        },
        "b666dc35c08c4102b511775e7037bb52": {
          "model_module": "@jupyter-widgets/controls",
          "model_name": "FloatProgressModel",
          "state": {
            "_view_name": "ProgressView",
            "style": "IPY_MODEL_6090cb7a37dd4566bb10077de9de6e38",
            "_dom_classes": [],
            "description": "100%",
            "_model_name": "FloatProgressModel",
            "bar_style": "success",
            "max": 1,
            "_view_module": "@jupyter-widgets/controls",
            "_model_module_version": "1.5.0",
            "value": 1,
            "_view_count": null,
            "_view_module_version": "1.5.0",
            "orientation": "horizontal",
            "min": 0,
            "description_tooltip": null,
            "_model_module": "@jupyter-widgets/controls",
            "layout": "IPY_MODEL_2827e5fb2b8743d2ba2793190b074322"
          }
        },
        "e65f546fbcb340ae89deb2700a666bd8": {
          "model_module": "@jupyter-widgets/controls",
          "model_name": "HTMLModel",
          "state": {
            "_view_name": "HTMLView",
            "style": "IPY_MODEL_1ccd1568be204652817ec1a5d696864e",
            "_dom_classes": [],
            "description": "",
            "_model_name": "HTMLModel",
            "placeholder": "​",
            "_view_module": "@jupyter-widgets/controls",
            "_model_module_version": "1.5.0",
            "value": " 1/1 [00:00&lt;00:00, 16.01it/s]",
            "_view_count": null,
            "_view_module_version": "1.5.0",
            "description_tooltip": null,
            "_model_module": "@jupyter-widgets/controls",
            "layout": "IPY_MODEL_3d1d3b81558c4815b7fdb73e785de4df"
          }
        },
        "6090cb7a37dd4566bb10077de9de6e38": {
          "model_module": "@jupyter-widgets/controls",
          "model_name": "ProgressStyleModel",
          "state": {
            "_view_name": "StyleView",
            "_model_name": "ProgressStyleModel",
            "description_width": "initial",
            "_view_module": "@jupyter-widgets/base",
            "_model_module_version": "1.5.0",
            "_view_count": null,
            "_view_module_version": "1.2.0",
            "bar_color": null,
            "_model_module": "@jupyter-widgets/controls"
          }
        },
        "2827e5fb2b8743d2ba2793190b074322": {
          "model_module": "@jupyter-widgets/base",
          "model_name": "LayoutModel",
          "state": {
            "_view_name": "LayoutView",
            "grid_template_rows": null,
            "right": null,
            "justify_content": null,
            "_view_module": "@jupyter-widgets/base",
            "overflow": null,
            "_model_module_version": "1.2.0",
            "_view_count": null,
            "flex_flow": null,
            "width": null,
            "min_width": null,
            "border": null,
            "align_items": null,
            "bottom": null,
            "_model_module": "@jupyter-widgets/base",
            "top": null,
            "grid_column": null,
            "overflow_y": null,
            "overflow_x": null,
            "grid_auto_flow": null,
            "grid_area": null,
            "grid_template_columns": null,
            "flex": null,
            "_model_name": "LayoutModel",
            "justify_items": null,
            "grid_row": null,
            "max_height": null,
            "align_content": null,
            "visibility": null,
            "align_self": null,
            "height": null,
            "min_height": null,
            "padding": null,
            "grid_auto_rows": null,
            "grid_gap": null,
            "max_width": null,
            "order": null,
            "_view_module_version": "1.2.0",
            "grid_template_areas": null,
            "object_position": null,
            "object_fit": null,
            "grid_auto_columns": null,
            "margin": null,
            "display": null,
            "left": null
          }
        },
        "1ccd1568be204652817ec1a5d696864e": {
          "model_module": "@jupyter-widgets/controls",
          "model_name": "DescriptionStyleModel",
          "state": {
            "_view_name": "StyleView",
            "_model_name": "DescriptionStyleModel",
            "description_width": "",
            "_view_module": "@jupyter-widgets/base",
            "_model_module_version": "1.5.0",
            "_view_count": null,
            "_view_module_version": "1.2.0",
            "_model_module": "@jupyter-widgets/controls"
          }
        },
        "3d1d3b81558c4815b7fdb73e785de4df": {
          "model_module": "@jupyter-widgets/base",
          "model_name": "LayoutModel",
          "state": {
            "_view_name": "LayoutView",
            "grid_template_rows": null,
            "right": null,
            "justify_content": null,
            "_view_module": "@jupyter-widgets/base",
            "overflow": null,
            "_model_module_version": "1.2.0",
            "_view_count": null,
            "flex_flow": null,
            "width": null,
            "min_width": null,
            "border": null,
            "align_items": null,
            "bottom": null,
            "_model_module": "@jupyter-widgets/base",
            "top": null,
            "grid_column": null,
            "overflow_y": null,
            "overflow_x": null,
            "grid_auto_flow": null,
            "grid_area": null,
            "grid_template_columns": null,
            "flex": null,
            "_model_name": "LayoutModel",
            "justify_items": null,
            "grid_row": null,
            "max_height": null,
            "align_content": null,
            "visibility": null,
            "align_self": null,
            "height": null,
            "min_height": null,
            "padding": null,
            "grid_auto_rows": null,
            "grid_gap": null,
            "max_width": null,
            "order": null,
            "_view_module_version": "1.2.0",
            "grid_template_areas": null,
            "object_position": null,
            "object_fit": null,
            "grid_auto_columns": null,
            "margin": null,
            "display": null,
            "left": null
          }
        },
        "b371ae149dfe4b8782a851aab3509501": {
          "model_module": "@jupyter-widgets/controls",
          "model_name": "HBoxModel",
          "state": {
            "_view_name": "HBoxView",
            "_dom_classes": [],
            "_model_name": "HBoxModel",
            "_view_module": "@jupyter-widgets/controls",
            "_model_module_version": "1.5.0",
            "_view_count": null,
            "_view_module_version": "1.5.0",
            "box_style": "",
            "layout": "IPY_MODEL_f553b2f4abbe4684820fce1868e4772c",
            "_model_module": "@jupyter-widgets/controls",
            "children": [
              "IPY_MODEL_54d58f624adb4c399a2748acc3f9f5f1",
              "IPY_MODEL_4dc1c020a3ad49cf8b975546c2887320"
            ]
          }
        },
        "f553b2f4abbe4684820fce1868e4772c": {
          "model_module": "@jupyter-widgets/base",
          "model_name": "LayoutModel",
          "state": {
            "_view_name": "LayoutView",
            "grid_template_rows": null,
            "right": null,
            "justify_content": null,
            "_view_module": "@jupyter-widgets/base",
            "overflow": null,
            "_model_module_version": "1.2.0",
            "_view_count": null,
            "flex_flow": null,
            "width": null,
            "min_width": null,
            "border": null,
            "align_items": null,
            "bottom": null,
            "_model_module": "@jupyter-widgets/base",
            "top": null,
            "grid_column": null,
            "overflow_y": null,
            "overflow_x": null,
            "grid_auto_flow": null,
            "grid_area": null,
            "grid_template_columns": null,
            "flex": null,
            "_model_name": "LayoutModel",
            "justify_items": null,
            "grid_row": null,
            "max_height": null,
            "align_content": null,
            "visibility": null,
            "align_self": null,
            "height": null,
            "min_height": null,
            "padding": null,
            "grid_auto_rows": null,
            "grid_gap": null,
            "max_width": null,
            "order": null,
            "_view_module_version": "1.2.0",
            "grid_template_areas": null,
            "object_position": null,
            "object_fit": null,
            "grid_auto_columns": null,
            "margin": null,
            "display": null,
            "left": null
          }
        },
        "54d58f624adb4c399a2748acc3f9f5f1": {
          "model_module": "@jupyter-widgets/controls",
          "model_name": "FloatProgressModel",
          "state": {
            "_view_name": "ProgressView",
            "style": "IPY_MODEL_f02371d1f5cb43e9b0384e88d3b74249",
            "_dom_classes": [],
            "description": "100%",
            "_model_name": "FloatProgressModel",
            "bar_style": "success",
            "max": 10000,
            "_view_module": "@jupyter-widgets/controls",
            "_model_module_version": "1.5.0",
            "value": 10000,
            "_view_count": null,
            "_view_module_version": "1.5.0",
            "orientation": "horizontal",
            "min": 0,
            "description_tooltip": null,
            "_model_module": "@jupyter-widgets/controls",
            "layout": "IPY_MODEL_2a7c4eca96ee40da9633a1965ef9162e"
          }
        },
        "4dc1c020a3ad49cf8b975546c2887320": {
          "model_module": "@jupyter-widgets/controls",
          "model_name": "HTMLModel",
          "state": {
            "_view_name": "HTMLView",
            "style": "IPY_MODEL_0386e816309a4906901148f33399957c",
            "_dom_classes": [],
            "description": "",
            "_model_name": "HTMLModel",
            "placeholder": "​",
            "_view_module": "@jupyter-widgets/controls",
            "_model_module_version": "1.5.0",
            "value": " 10000/10000 [00:05&lt;00:00, 1738.48it/s]",
            "_view_count": null,
            "_view_module_version": "1.5.0",
            "description_tooltip": null,
            "_model_module": "@jupyter-widgets/controls",
            "layout": "IPY_MODEL_a9c7ca5914ef4508a265dde5a30def8f"
          }
        },
        "f02371d1f5cb43e9b0384e88d3b74249": {
          "model_module": "@jupyter-widgets/controls",
          "model_name": "ProgressStyleModel",
          "state": {
            "_view_name": "StyleView",
            "_model_name": "ProgressStyleModel",
            "description_width": "initial",
            "_view_module": "@jupyter-widgets/base",
            "_model_module_version": "1.5.0",
            "_view_count": null,
            "_view_module_version": "1.2.0",
            "bar_color": null,
            "_model_module": "@jupyter-widgets/controls"
          }
        },
        "2a7c4eca96ee40da9633a1965ef9162e": {
          "model_module": "@jupyter-widgets/base",
          "model_name": "LayoutModel",
          "state": {
            "_view_name": "LayoutView",
            "grid_template_rows": null,
            "right": null,
            "justify_content": null,
            "_view_module": "@jupyter-widgets/base",
            "overflow": null,
            "_model_module_version": "1.2.0",
            "_view_count": null,
            "flex_flow": null,
            "width": null,
            "min_width": null,
            "border": null,
            "align_items": null,
            "bottom": null,
            "_model_module": "@jupyter-widgets/base",
            "top": null,
            "grid_column": null,
            "overflow_y": null,
            "overflow_x": null,
            "grid_auto_flow": null,
            "grid_area": null,
            "grid_template_columns": null,
            "flex": null,
            "_model_name": "LayoutModel",
            "justify_items": null,
            "grid_row": null,
            "max_height": null,
            "align_content": null,
            "visibility": null,
            "align_self": null,
            "height": null,
            "min_height": null,
            "padding": null,
            "grid_auto_rows": null,
            "grid_gap": null,
            "max_width": null,
            "order": null,
            "_view_module_version": "1.2.0",
            "grid_template_areas": null,
            "object_position": null,
            "object_fit": null,
            "grid_auto_columns": null,
            "margin": null,
            "display": null,
            "left": null
          }
        },
        "0386e816309a4906901148f33399957c": {
          "model_module": "@jupyter-widgets/controls",
          "model_name": "DescriptionStyleModel",
          "state": {
            "_view_name": "StyleView",
            "_model_name": "DescriptionStyleModel",
            "description_width": "",
            "_view_module": "@jupyter-widgets/base",
            "_model_module_version": "1.5.0",
            "_view_count": null,
            "_view_module_version": "1.2.0",
            "_model_module": "@jupyter-widgets/controls"
          }
        },
        "a9c7ca5914ef4508a265dde5a30def8f": {
          "model_module": "@jupyter-widgets/base",
          "model_name": "LayoutModel",
          "state": {
            "_view_name": "LayoutView",
            "grid_template_rows": null,
            "right": null,
            "justify_content": null,
            "_view_module": "@jupyter-widgets/base",
            "overflow": null,
            "_model_module_version": "1.2.0",
            "_view_count": null,
            "flex_flow": null,
            "width": null,
            "min_width": null,
            "border": null,
            "align_items": null,
            "bottom": null,
            "_model_module": "@jupyter-widgets/base",
            "top": null,
            "grid_column": null,
            "overflow_y": null,
            "overflow_x": null,
            "grid_auto_flow": null,
            "grid_area": null,
            "grid_template_columns": null,
            "flex": null,
            "_model_name": "LayoutModel",
            "justify_items": null,
            "grid_row": null,
            "max_height": null,
            "align_content": null,
            "visibility": null,
            "align_self": null,
            "height": null,
            "min_height": null,
            "padding": null,
            "grid_auto_rows": null,
            "grid_gap": null,
            "max_width": null,
            "order": null,
            "_view_module_version": "1.2.0",
            "grid_template_areas": null,
            "object_position": null,
            "object_fit": null,
            "grid_auto_columns": null,
            "margin": null,
            "display": null,
            "left": null
          }
        },
        "13216b8b03a1463d82822257d717a4cb": {
          "model_module": "@jupyter-widgets/controls",
          "model_name": "HBoxModel",
          "state": {
            "_view_name": "HBoxView",
            "_dom_classes": [],
            "_model_name": "HBoxModel",
            "_view_module": "@jupyter-widgets/controls",
            "_model_module_version": "1.5.0",
            "_view_count": null,
            "_view_module_version": "1.5.0",
            "box_style": "",
            "layout": "IPY_MODEL_27f692dee9a6476482c97abc396eaaae",
            "_model_module": "@jupyter-widgets/controls",
            "children": [
              "IPY_MODEL_05f7f72e3c654dd6ba4a736377ecf836",
              "IPY_MODEL_a2ea6230b878404fb114e88cd212c311"
            ]
          }
        },
        "27f692dee9a6476482c97abc396eaaae": {
          "model_module": "@jupyter-widgets/base",
          "model_name": "LayoutModel",
          "state": {
            "_view_name": "LayoutView",
            "grid_template_rows": null,
            "right": null,
            "justify_content": null,
            "_view_module": "@jupyter-widgets/base",
            "overflow": null,
            "_model_module_version": "1.2.0",
            "_view_count": null,
            "flex_flow": null,
            "width": null,
            "min_width": null,
            "border": null,
            "align_items": null,
            "bottom": null,
            "_model_module": "@jupyter-widgets/base",
            "top": null,
            "grid_column": null,
            "overflow_y": null,
            "overflow_x": null,
            "grid_auto_flow": null,
            "grid_area": null,
            "grid_template_columns": null,
            "flex": null,
            "_model_name": "LayoutModel",
            "justify_items": null,
            "grid_row": null,
            "max_height": null,
            "align_content": null,
            "visibility": null,
            "align_self": null,
            "height": null,
            "min_height": null,
            "padding": null,
            "grid_auto_rows": null,
            "grid_gap": null,
            "max_width": null,
            "order": null,
            "_view_module_version": "1.2.0",
            "grid_template_areas": null,
            "object_position": null,
            "object_fit": null,
            "grid_auto_columns": null,
            "margin": null,
            "display": null,
            "left": null
          }
        },
        "05f7f72e3c654dd6ba4a736377ecf836": {
          "model_module": "@jupyter-widgets/controls",
          "model_name": "FloatProgressModel",
          "state": {
            "_view_name": "ProgressView",
            "style": "IPY_MODEL_c90925230c704199b69866d85b30f7da",
            "_dom_classes": [],
            "description": "100%",
            "_model_name": "FloatProgressModel",
            "bar_style": "success",
            "max": 1,
            "_view_module": "@jupyter-widgets/controls",
            "_model_module_version": "1.5.0",
            "value": 1,
            "_view_count": null,
            "_view_module_version": "1.5.0",
            "orientation": "horizontal",
            "min": 0,
            "description_tooltip": null,
            "_model_module": "@jupyter-widgets/controls",
            "layout": "IPY_MODEL_f32aa90b90944f45aa3968028c77c15b"
          }
        },
        "a2ea6230b878404fb114e88cd212c311": {
          "model_module": "@jupyter-widgets/controls",
          "model_name": "HTMLModel",
          "state": {
            "_view_name": "HTMLView",
            "style": "IPY_MODEL_e5328c32051d4d14be1a4816188c1de2",
            "_dom_classes": [],
            "description": "",
            "_model_name": "HTMLModel",
            "placeholder": "​",
            "_view_module": "@jupyter-widgets/controls",
            "_model_module_version": "1.5.0",
            "value": " 1/1 [00:47&lt;00:00, 47.56s/it]",
            "_view_count": null,
            "_view_module_version": "1.5.0",
            "description_tooltip": null,
            "_model_module": "@jupyter-widgets/controls",
            "layout": "IPY_MODEL_87e1eb2d6ecc43518734232800a2ef2a"
          }
        },
        "c90925230c704199b69866d85b30f7da": {
          "model_module": "@jupyter-widgets/controls",
          "model_name": "ProgressStyleModel",
          "state": {
            "_view_name": "StyleView",
            "_model_name": "ProgressStyleModel",
            "description_width": "initial",
            "_view_module": "@jupyter-widgets/base",
            "_model_module_version": "1.5.0",
            "_view_count": null,
            "_view_module_version": "1.2.0",
            "bar_color": null,
            "_model_module": "@jupyter-widgets/controls"
          }
        },
        "f32aa90b90944f45aa3968028c77c15b": {
          "model_module": "@jupyter-widgets/base",
          "model_name": "LayoutModel",
          "state": {
            "_view_name": "LayoutView",
            "grid_template_rows": null,
            "right": null,
            "justify_content": null,
            "_view_module": "@jupyter-widgets/base",
            "overflow": null,
            "_model_module_version": "1.2.0",
            "_view_count": null,
            "flex_flow": null,
            "width": null,
            "min_width": null,
            "border": null,
            "align_items": null,
            "bottom": null,
            "_model_module": "@jupyter-widgets/base",
            "top": null,
            "grid_column": null,
            "overflow_y": null,
            "overflow_x": null,
            "grid_auto_flow": null,
            "grid_area": null,
            "grid_template_columns": null,
            "flex": null,
            "_model_name": "LayoutModel",
            "justify_items": null,
            "grid_row": null,
            "max_height": null,
            "align_content": null,
            "visibility": null,
            "align_self": null,
            "height": null,
            "min_height": null,
            "padding": null,
            "grid_auto_rows": null,
            "grid_gap": null,
            "max_width": null,
            "order": null,
            "_view_module_version": "1.2.0",
            "grid_template_areas": null,
            "object_position": null,
            "object_fit": null,
            "grid_auto_columns": null,
            "margin": null,
            "display": null,
            "left": null
          }
        },
        "e5328c32051d4d14be1a4816188c1de2": {
          "model_module": "@jupyter-widgets/controls",
          "model_name": "DescriptionStyleModel",
          "state": {
            "_view_name": "StyleView",
            "_model_name": "DescriptionStyleModel",
            "description_width": "",
            "_view_module": "@jupyter-widgets/base",
            "_model_module_version": "1.5.0",
            "_view_count": null,
            "_view_module_version": "1.2.0",
            "_model_module": "@jupyter-widgets/controls"
          }
        },
        "87e1eb2d6ecc43518734232800a2ef2a": {
          "model_module": "@jupyter-widgets/base",
          "model_name": "LayoutModel",
          "state": {
            "_view_name": "LayoutView",
            "grid_template_rows": null,
            "right": null,
            "justify_content": null,
            "_view_module": "@jupyter-widgets/base",
            "overflow": null,
            "_model_module_version": "1.2.0",
            "_view_count": null,
            "flex_flow": null,
            "width": null,
            "min_width": null,
            "border": null,
            "align_items": null,
            "bottom": null,
            "_model_module": "@jupyter-widgets/base",
            "top": null,
            "grid_column": null,
            "overflow_y": null,
            "overflow_x": null,
            "grid_auto_flow": null,
            "grid_area": null,
            "grid_template_columns": null,
            "flex": null,
            "_model_name": "LayoutModel",
            "justify_items": null,
            "grid_row": null,
            "max_height": null,
            "align_content": null,
            "visibility": null,
            "align_self": null,
            "height": null,
            "min_height": null,
            "padding": null,
            "grid_auto_rows": null,
            "grid_gap": null,
            "max_width": null,
            "order": null,
            "_view_module_version": "1.2.0",
            "grid_template_areas": null,
            "object_position": null,
            "object_fit": null,
            "grid_auto_columns": null,
            "margin": null,
            "display": null,
            "left": null
          }
        }
      }
    }
  },
  "cells": [
    {
      "cell_type": "code",
      "metadata": {
        "id": "-CeHixHK4NYY"
      },
      "source": [
        "import pickle\n",
        "import random\n",
        "import numpy as np\n",
        "import pandas as pd\n",
        "from tqdm.notebook import tqdm\n",
        "import tensorflow as tf\n",
        "from tensorflow import keras\n",
        "from tensorflow.keras import Input, layers, Model\n",
        "from tensorflow.keras import backend as K\n",
        "from tensorflow.keras.layers import Embedding, TimeDistributed, Dense, Flatten, Conv1D, Activation, RepeatVector, Permute, Multiply, Lambda, Bidirectional, LSTM\n",
        "\n",
        "from sklearn.metrics import f1_score\n",
        "\n",
        "import matplotlib.pyplot as plt\n",
        "import seaborn as sns\n",
        "%matplotlib inline"
      ],
      "execution_count": 2,
      "outputs": []
    },
    {
      "cell_type": "code",
      "metadata": {
        "id": "yEhFBR52322p"
      },
      "source": [
        "pickle_path = 'pickle/'"
      ],
      "execution_count": 3,
      "outputs": []
    },
    {
      "cell_type": "code",
      "metadata": {
        "id": "lmeDHHYh4CBn"
      },
      "source": [
        "random.seed(42)\n",
        "np.random.seed(42)\n",
        "tf.random.set_seed(42)"
      ],
      "execution_count": 4,
      "outputs": []
    },
    {
      "cell_type": "code",
      "metadata": {
        "id": "7n5QodBnx_3E"
      },
      "source": [
        "#methods to preprocess the data and labels\n",
        "\n",
        "#encode the sentences with max length of max_sentence_length\n",
        "def pad_encode_sentences(df):\n",
        "    df = df.groupby('story_id').agg({'sentence':','.join})\n",
        "    pad_enc_sentences = []\n",
        "    for sentences in tqdm(list(df.sentence)):\n",
        "        enc_sent = [[word2idx.get(w,1) for w in sent.split()[:max_sentence_length]] for sent in sentences.split(',')]\n",
        "        if len(enc_sent) < max_story_length:\n",
        "            enc_sent.extend([[0 for p in range(max_sentence_length)] for i in range(max_story_length - len(enc_sent))])\n",
        "        padded_sen = tf.keras.preprocessing.sequence.pad_sequences(enc_sent,maxlen = max_sentence_length,padding='post',truncating='post')\n",
        "        pad_enc_sentences.append(padded_sen)\n",
        "    return pad_enc_sentences\n",
        "\n",
        "#pad the labels with max length of story\n",
        "def pad_labels(df):\n",
        "    dfx = df.copy()\n",
        "    dfx['label'] = dfx['label'] + 1\n",
        "    dfx = dfx[['story_id','label']].groupby('story_id').agg(lambda col: col.tolist()).reset_index()\n",
        "    labels = tf.keras.preprocessing.sequence.pad_sequences(list(dfx.label),maxlen = max_story_length, padding='post',truncating='post')\n",
        "    labels = labels.reshape(-1, max_story_length, 1)\n",
        "    return labels"
      ],
      "execution_count": 5,
      "outputs": []
    },
    {
      "cell_type": "code",
      "metadata": {
        "id": "EPu41q_D4EyS"
      },
      "source": [
        "#load the intermediate stored earlier\n",
        "with open(pickle_path + 'word2idx.pkl','rb') as fl:\n",
        "  word2idx = pickle.load(fl)\n",
        "\n",
        "with open(pickle_path + 'idx2word.pkl','rb') as fl:\n",
        "  idx2word = pickle.load(fl)\n",
        "\n",
        "with open(pickle_path + 'label2idx.pkl','rb') as fl:\n",
        "  label2idx = pickle.load(fl)\n",
        "\n",
        "with open(pickle_path + 'padded_data_train.pkl','rb') as fl:\n",
        "  x_train = pickle.load(fl)\n",
        "\n",
        "with open(pickle_path + 'padded_labels_train.pkl','rb') as fl:\n",
        "  y_train = pickle.load(fl)\n",
        "\n",
        "with open(pickle_path + 'padded_data_val.pkl','rb') as fl:\n",
        "  x_val = pickle.load(fl)\n",
        "\n",
        "with open(pickle_path + 'padded_labels_val.pkl','rb') as fl:\n",
        "  y_val = pickle.load(fl)\n",
        "\n",
        "with open(pickle_path + 'padded_data_test.pkl','rb') as fl:\n",
        "  x_test = pickle.load(fl)\n",
        "\n",
        "with open(pickle_path + 'padded_labels_test.pkl','rb') as fl:\n",
        "  y_test = pickle.load(fl)"
      ],
      "execution_count": 11,
      "outputs": []
    },
    {
      "cell_type": "code",
      "metadata": {
        "colab": {
          "base_uri": "https://localhost:8080/"
        },
        "id": "vMjuYSSZ55jM",
        "outputId": "ff091310-a53b-4fe0-9f17-9470566ebdb3"
      },
      "source": [
        "print(x_train.shape, x_val.shape, x_test.shape)\n",
        "print(y_train.shape, y_val.shape, y_test.shape)"
      ],
      "execution_count": 12,
      "outputs": [
        {
          "output_type": "stream",
          "text": [
            "(30000, 29, 40) (10000, 29, 40) (10000, 29, 40)\n",
            "(30000, 29, 1) (10000, 29, 1) (10000, 29, 1)\n"
          ],
          "name": "stdout"
        }
      ]
    },
    {
      "cell_type": "code",
      "metadata": {
        "colab": {
          "base_uri": "https://localhost:8080/"
        },
        "id": "MFAATZp66Jka",
        "outputId": "18a0931c-35b3-46fd-f5e1-c794722589d6"
      },
      "source": [
        "max_story_length = x_train.shape[1]\n",
        "max_sentence_length = x_train.shape[2]\n",
        "vocab_size = len(word2idx)\n",
        "\n",
        "print(max_story_length , max_sentence_length, vocab_size)"
      ],
      "execution_count": 13,
      "outputs": [
        {
          "output_type": "stream",
          "text": [
            "29 40 166677\n"
          ],
          "name": "stdout"
        }
      ]
    },
    {
      "cell_type": "code",
      "metadata": {
        "id": "YrbUTOo68nFh"
      },
      "source": [
        "def get_embedding(embedding_path):\n",
        "  glove_embeddings = {}\n",
        "  embedding_dim = 100\n",
        "  with open('glove.6B.100d.txt') as fl:\n",
        "    ln = fl.readline().split()\n",
        "    word = ln[0]\n",
        "    emb = np.array(ln[1:],dtype='float32')\n",
        "    glove_embeddings[word] = emb\n",
        "  \n",
        "  embedding = np.zeros((len(word2idx),embedding_dim))\n",
        "\n",
        "  for idx, key in enumerate(word2idx):\n",
        "    if glove_embeddings.get(key) is not None:\n",
        "      embedding[idx,:] = glove_embeddings[word]\n",
        "\n",
        "  return embedding"
      ],
      "execution_count": 14,
      "outputs": []
    },
    {
      "cell_type": "code",
      "metadata": {
        "id": "NvEDkj6uvO_w"
      },
      "source": [
        "embedding_path = 'glove.6B.100d.txt'\n",
        "embedding_matrix = get_embedding(embedding_path)\n",
        "embedding_dim = 100"
      ],
      "execution_count": 16,
      "outputs": []
    },
    {
      "cell_type": "code",
      "metadata": {
        "colab": {
          "base_uri": "https://localhost:8080/"
        },
        "id": "ix__AGSB4FI4",
        "outputId": "e49a40f7-1711-4a54-bf76-8b70ccd911d3"
      },
      "source": [
        "#create the model using attention\n",
        "inp = Input(shape=(max_story_length , max_sentence_length,))\n",
        "emb = TimeDistributed(Embedding(input_dim = len(word2idx),\n",
        "                                output_dim = embedding_dim,\n",
        "                                input_length = max_sentence_length,\n",
        "                                weights = [embedding],\n",
        "                                trainable = True))(inp)\n",
        "conv1d = TimeDistributed(Conv1D(filters = 32, kernel_size = 2, activation = 'relu',padding='same'))(emb)\n",
        "\n",
        "dense1 = TimeDistributed(Dense(units = 1, activation='tanh'))(conv1d)\n",
        "flat = TimeDistributed(Flatten())(dense1)\n",
        "activation1 = TimeDistributed(Activation('softmax'))(flat)\n",
        "repeat_vector = TimeDistributed(RepeatVector(32))(activation1)\n",
        "permute = TimeDistributed(Permute([2,1]))(repeat_vector)\n",
        "\n",
        "mul = Multiply()([conv1d, permute])\n",
        "lamda = TimeDistributed(Lambda(lambda x: K.sum(x, axis=-2)))(mul)\n",
        "bidir_lstm = Bidirectional(LSTM(units=16,return_sequences=True))(lamda)\n",
        "ouput = TimeDistributed(Dense(units=3,activation='softmax'))(bidir_lstm)\n",
        "\n",
        "model = Model(inputs=[inp],outputs=[ouput])\n",
        "model.summary()"
      ],
      "execution_count": 17,
      "outputs": [
        {
          "output_type": "stream",
          "text": [
            "Model: \"model\"\n",
            "__________________________________________________________________________________________________\n",
            "Layer (type)                    Output Shape         Param #     Connected to                     \n",
            "==================================================================================================\n",
            "input_1 (InputLayer)            [(None, 29, 40)]     0                                            \n",
            "__________________________________________________________________________________________________\n",
            "time_distributed (TimeDistribut (None, 29, 40, 100)  16667700    input_1[0][0]                    \n",
            "__________________________________________________________________________________________________\n",
            "time_distributed_1 (TimeDistrib (None, 29, 40, 32)   6432        time_distributed[0][0]           \n",
            "__________________________________________________________________________________________________\n",
            "time_distributed_2 (TimeDistrib (None, 29, 40, 1)    33          time_distributed_1[0][0]         \n",
            "__________________________________________________________________________________________________\n",
            "time_distributed_3 (TimeDistrib (None, 29, 40)       0           time_distributed_2[0][0]         \n",
            "__________________________________________________________________________________________________\n",
            "time_distributed_4 (TimeDistrib (None, 29, 40)       0           time_distributed_3[0][0]         \n",
            "__________________________________________________________________________________________________\n",
            "time_distributed_5 (TimeDistrib (None, 29, 32, 40)   0           time_distributed_4[0][0]         \n",
            "__________________________________________________________________________________________________\n",
            "time_distributed_6 (TimeDistrib (None, 29, 40, 32)   0           time_distributed_5[0][0]         \n",
            "__________________________________________________________________________________________________\n",
            "multiply (Multiply)             (None, 29, 40, 32)   0           time_distributed_1[0][0]         \n",
            "                                                                 time_distributed_6[0][0]         \n",
            "__________________________________________________________________________________________________\n",
            "time_distributed_7 (TimeDistrib (None, 29, 32)       0           multiply[0][0]                   \n",
            "__________________________________________________________________________________________________\n",
            "bidirectional (Bidirectional)   (None, 29, 32)       6272        time_distributed_7[0][0]         \n",
            "__________________________________________________________________________________________________\n",
            "time_distributed_8 (TimeDistrib (None, 29, 3)        99          bidirectional[0][0]              \n",
            "==================================================================================================\n",
            "Total params: 16,680,536\n",
            "Trainable params: 16,680,536\n",
            "Non-trainable params: 0\n",
            "__________________________________________________________________________________________________\n"
          ],
          "name": "stdout"
        }
      ]
    },
    {
      "cell_type": "code",
      "metadata": {
        "colab": {
          "base_uri": "https://localhost:8080/",
          "height": 1000
        },
        "id": "AfJQGwe6Jwsj",
        "outputId": "a66f1144-afed-4a2a-9e26-67a983a7ebcb"
      },
      "source": [
        "keras.utils.plot_model(model,show_shapes=True)"
      ],
      "execution_count": 18,
      "outputs": [
        {
          "output_type": "execute_result",
          "data": {
            "image/png": "[encoded data removed]",
            "text/plain": [
              "<IPython.core.display.Image object>"
            ]
          },
          "metadata": {
            "tags": []
          },
          "execution_count": 18
        }
      ]
    },
    {
      "cell_type": "code",
      "metadata": {
        "id": "8p3Z2kcHVPV3"
      },
      "source": [
        "es = keras.callbacks.EarlyStopping(monitor='val_loss', patience=2, restore_best_weights=True)\n"
      ],
      "execution_count": 19,
      "outputs": []
    },
    {
      "cell_type": "code",
      "metadata": {
        "colab": {
          "base_uri": "https://localhost:8080/",
          "height": 301
        },
        "id": "6w7EJbVH1Zi9",
        "outputId": "48500275-52f3-45b6-93de-e43a2ee11993"
      },
      "source": [
        "# CUSTOM LEARNING SCHEUDLE\n",
        "# Reference: https://www.kaggle.com/cdeotte/how-to-compete-with-gpus-workshop\n",
        "LR_START = 1e-5\n",
        "LR_MAX = 1e-3\n",
        "LR_RAMPUP_EPOCHS = 5\n",
        "LR_SUSTAIN_EPOCHS = 0\n",
        "LR_STEP_DECAY = 0.75\n",
        "\n",
        "def lrfn(epoch):\n",
        "    if epoch < LR_RAMPUP_EPOCHS:\n",
        "        lr = (LR_MAX - LR_START) / LR_RAMPUP_EPOCHS * epoch + LR_START\n",
        "    elif epoch < LR_RAMPUP_EPOCHS + LR_SUSTAIN_EPOCHS:\n",
        "        lr = LR_MAX\n",
        "    else:\n",
        "        lr = LR_MAX * LR_STEP_DECAY**((epoch - LR_RAMPUP_EPOCHS - LR_SUSTAIN_EPOCHS)//10)\n",
        "    return lr\n",
        "    \n",
        "lr2 = tf.keras.callbacks.LearningRateScheduler(lrfn, verbose = True)\n",
        "\n",
        "rng = [i for i in range(100)]\n",
        "y = [lrfn(x) for x in rng]\n",
        "plt.plot(rng, y); \n",
        "plt.xlabel('epoch',size=14); plt.ylabel('learning rate',size=14)\n",
        "plt.title('Training Schedule',size=16); plt.show()"
      ],
      "execution_count": 20,
      "outputs": [
        {
          "output_type": "display_data",
          "data": {
            "image/png": "[encoded data removed]",
            "text/plain": [
              "<Figure size 432x288 with 1 Axes>"
            ]
          },
          "metadata": {
            "tags": [],
            "needs_background": "light"
          }
        }
      ]
    },
    {
      "cell_type": "code",
      "metadata": {
        "id": "ns91sTVuxC7-"
      },
      "source": [
        "model.compile(optimizer=tf.keras.optimizers.Adam(lr=0.00001),\n",
        "              loss='sparse_categorical_crossentropy',\n",
        "              metrics=['accuracy'])"
      ],
      "execution_count": 21,
      "outputs": []
    },
    {
      "cell_type": "code",
      "metadata": {
        "colab": {
          "base_uri": "https://localhost:8080/"
        },
        "id": "jk8PACiPU_EZ",
        "outputId": "53e72c63-d7af-4c51-8846-8da8008363c5"
      },
      "source": [
        "model.fit(x=padded_data_train,\n",
        "          y=padded_labels_train,\n",
        "          batch_size=64,\n",
        "          epochs=50,\n",
        "          callbacks=[es,lr2],\n",
        "          validation_data=(padded_data_val, padded_labels_val),\n",
        "          verbose=1)"
      ],
      "execution_count": 22,
      "outputs": [
        {
          "output_type": "stream",
          "text": [
            "Epoch 1/50\n",
            "\n",
            "Epoch 00001: LearningRateScheduler reducing learning rate to 1e-05.\n",
            "469/469 [==============================] - 142s 233ms/step - loss: 1.0876 - accuracy: 0.7223 - val_loss: 1.0580 - val_accuracy: 0.8089\n",
            "Epoch 2/50\n",
            "\n",
            "Epoch 00002: LearningRateScheduler reducing learning rate to 0.000208.\n",
            "469/469 [==============================] - 107s 228ms/step - loss: 0.5970 - accuracy: 0.8304 - val_loss: 0.3062 - val_accuracy: 0.8630\n",
            "Epoch 3/50\n",
            "\n",
            "Epoch 00003: LearningRateScheduler reducing learning rate to 0.000406.\n",
            "469/469 [==============================] - 104s 222ms/step - loss: 0.3041 - accuracy: 0.8630 - val_loss: 0.2947 - val_accuracy: 0.8663\n",
            "Epoch 4/50\n",
            "\n",
            "Epoch 00004: LearningRateScheduler reducing learning rate to 0.0006039999999999999.\n",
            "469/469 [==============================] - 104s 222ms/step - loss: 0.2914 - accuracy: 0.8674 - val_loss: 0.2871 - val_accuracy: 0.8691\n",
            "Epoch 5/50\n",
            "\n",
            "Epoch 00005: LearningRateScheduler reducing learning rate to 0.000802.\n",
            "469/469 [==============================] - 104s 222ms/step - loss: 0.2775 - accuracy: 0.8737 - val_loss: 0.2860 - val_accuracy: 0.8677\n",
            "Epoch 6/50\n",
            "\n",
            "Epoch 00006: LearningRateScheduler reducing learning rate to 0.001.\n",
            "469/469 [==============================] - 104s 222ms/step - loss: 0.2590 - accuracy: 0.8827 - val_loss: 0.2905 - val_accuracy: 0.8660\n",
            "Epoch 7/50\n",
            "\n",
            "Epoch 00007: LearningRateScheduler reducing learning rate to 0.001.\n",
            "469/469 [==============================] - 104s 221ms/step - loss: 0.2375 - accuracy: 0.8952 - val_loss: 0.3036 - val_accuracy: 0.8613\n"
          ],
          "name": "stdout"
        },
        {
          "output_type": "execute_result",
          "data": {
            "text/plain": [
              "<tensorflow.python.keras.callbacks.History at 0x7f20966d3c50>"
            ]
          },
          "metadata": {
            "tags": []
          },
          "execution_count": 22
        }
      ]
    },
    {
      "cell_type": "code",
      "metadata": {
        "id": "jyUTVzij2bBP"
      },
      "source": [
        "model.save('attention_model.h5')"
      ],
      "execution_count": 23,
      "outputs": []
    },
    {
      "cell_type": "code",
      "metadata": {
        "id": "RTTT3HB4yNPX",
        "colab": {
          "base_uri": "https://localhost:8080/",
          "height": 204
        },
        "outputId": "c248ff14-df36-44a2-bd41-839ee486f6d5"
      },
      "source": [
        "#read the unencoded test data\n",
        "df_test = pd.read_csv('data/test.csv')\n",
        "df_test.head()"
      ],
      "execution_count": 24,
      "outputs": [
        {
          "output_type": "execute_result",
          "data": {
            "text/html": [
              "<div>\n",
              "<style scoped>\n",
              "    .dataframe tbody tr th:only-of-type {\n",
              "        vertical-align: middle;\n",
              "    }\n",
              "\n",
              "    .dataframe tbody tr th {\n",
              "        vertical-align: top;\n",
              "    }\n",
              "\n",
              "    .dataframe thead th {\n",
              "        text-align: right;\n",
              "    }\n",
              "</style>\n",
              "<table border=\"1\" class=\"dataframe\">\n",
              "  <thead>\n",
              "    <tr style=\"text-align: right;\">\n",
              "      <th></th>\n",
              "      <th>Unnamed: 0</th>\n",
              "      <th>story_id</th>\n",
              "      <th>sentence_id</th>\n",
              "      <th>sentence</th>\n",
              "      <th>label</th>\n",
              "    </tr>\n",
              "  </thead>\n",
              "  <tbody>\n",
              "    <tr>\n",
              "      <th>0</th>\n",
              "      <td>205</td>\n",
              "      <td>10</td>\n",
              "      <td>0</td>\n",
              "      <td>huruma kenya    we found barack obamas halfbro...</td>\n",
              "      <td>0</td>\n",
              "    </tr>\n",
              "    <tr>\n",
              "      <th>1</th>\n",
              "      <td>206</td>\n",
              "      <td>10</td>\n",
              "      <td>1</td>\n",
              "      <td>george obama says he is sure his halfbrother w...</td>\n",
              "      <td>1</td>\n",
              "    </tr>\n",
              "    <tr>\n",
              "      <th>2</th>\n",
              "      <td>207</td>\n",
              "      <td>10</td>\n",
              "      <td>2</td>\n",
              "      <td>george obama whose birth certificate shows tha...</td>\n",
              "      <td>0</td>\n",
              "    </tr>\n",
              "    <tr>\n",
              "      <th>3</th>\n",
              "      <td>208</td>\n",
              "      <td>10</td>\n",
              "      <td>3</td>\n",
              "      <td>in his memoir dreams for my father the democra...</td>\n",
              "      <td>1</td>\n",
              "    </tr>\n",
              "    <tr>\n",
              "      <th>4</th>\n",
              "      <td>209</td>\n",
              "      <td>10</td>\n",
              "      <td>4</td>\n",
              "      <td>in the book which is popular in nairobi and ca...</td>\n",
              "      <td>0</td>\n",
              "    </tr>\n",
              "  </tbody>\n",
              "</table>\n",
              "</div>"
            ],
            "text/plain": [
              "   Unnamed: 0  ...  label\n",
              "0         205  ...      0\n",
              "1         206  ...      1\n",
              "2         207  ...      0\n",
              "3         208  ...      1\n",
              "4         209  ...      0\n",
              "\n",
              "[5 rows x 5 columns]"
            ]
          },
          "metadata": {
            "tags": []
          },
          "execution_count": 24
        }
      ]
    },
    {
      "cell_type": "code",
      "metadata": {
        "colab": {
          "base_uri": "https://localhost:8080/",
          "height": 154,
          "referenced_widgets": [
            "83cda0d67b134d07a63d42080b0ca2b7",
            "b76bf7e35d324b93befe39723e074d75",
            "b666dc35c08c4102b511775e7037bb52",
            "e65f546fbcb340ae89deb2700a666bd8",
            "6090cb7a37dd4566bb10077de9de6e38",
            "2827e5fb2b8743d2ba2793190b074322",
            "1ccd1568be204652817ec1a5d696864e",
            "3d1d3b81558c4815b7fdb73e785de4df"
          ]
        },
        "id": "RQakUpdZzAkb",
        "outputId": "5b54072e-a658-4b8d-9b9e-fb6c39045bb9"
      },
      "source": [
        "#prediction for one random instance\n",
        "\n",
        "#select a random instance\n",
        "random_story = df_test[df_test['story_id'] == random.choice(list(df_test.story_id.unique()))]\n",
        "\n",
        "#preprocess the dataframe for the story_id and label\n",
        "pad_enc_story = pad_encode_sentences(random_story)\n",
        "pad_enc_story = np.array(pad_enc_story)\n",
        "\n",
        "padded_labels_story = pad_labels(random_story)\n",
        "padded_labels_story = padded_labels_story.reshape(-1, max_story_length, 1)\n",
        "\n",
        "#predict \n",
        "yhat = model.predict(pad_enc_story)\n",
        "yhat = np.argmax(yhat,axis=-1)\n",
        "yhat_idx = np.where(yhat == 2)\n",
        "pred_summary = pad_enc_story[yhat_idx]\n",
        "\n",
        "print(yhat)\n",
        "print(padded_labels_story.squeeze(axis=-1))\n",
        "\n",
        "decoded_sentence = []\n",
        "\n",
        "for i in range(len(pred_summary)):\n",
        "  indexed_sentence = pred_summary[i]\n",
        "  sentence = ' '.join([idx2word.get(idx) for idx in indexed_sentence if idx != 0 if idx2word.get(idx) is not None])\n",
        "  decoded_sentence.append(sentence)\n",
        "\n",
        "decoded_sentence"
      ],
      "execution_count": 25,
      "outputs": [
        {
          "output_type": "display_data",
          "data": {
            "application/vnd.jupyter.widget-view+json": {
              "model_id": "83cda0d67b134d07a63d42080b0ca2b7",
              "version_minor": 0,
              "version_major": 2
            },
            "text/plain": [
              "HBox(children=(FloatProgress(value=0.0, max=1.0), HTML(value='')))"
            ]
          },
          "metadata": {
            "tags": []
          }
        },
        {
          "output_type": "stream",
          "text": [
            "\n",
            "[[2 2 1 1 1 1 1 1 1 1 1 1 1 1 1 1 1 1 1 0 0 0 0 0 0 0 0 0 0]]\n",
            "[[2 2 2 1 2 1 1 1 1 1 1 2 1 1 1 1 1 1 1 0 0 0 0 0 0 0 0 0 0]]\n"
          ],
          "name": "stdout"
        },
        {
          "output_type": "execute_result",
          "data": {
            "text/plain": [
              "['wired its fun to imagine what michael mapes studio must look like you would assume that the new yorkbased artists workspace has to resemble the lab of a harebrained entomologist with test tubes specimen bags and pushpins strewn about',\n",
              " 'in reality of course to create the startlingly elaborate sculptural portraits mapes is known for he has to be much more organized than that it does take a fairly high degree of organization assures me but thats not the hardest']"
            ]
          },
          "metadata": {
            "tags": []
          },
          "execution_count": 25
        }
      ]
    },
    {
      "cell_type": "code",
      "metadata": {
        "colab": {
          "base_uri": "https://localhost:8080/",
          "height": 66,
          "referenced_widgets": [
            "b371ae149dfe4b8782a851aab3509501",
            "f553b2f4abbe4684820fce1868e4772c",
            "54d58f624adb4c399a2748acc3f9f5f1",
            "4dc1c020a3ad49cf8b975546c2887320",
            "f02371d1f5cb43e9b0384e88d3b74249",
            "2a7c4eca96ee40da9633a1965ef9162e",
            "0386e816309a4906901148f33399957c",
            "a9c7ca5914ef4508a265dde5a30def8f"
          ]
        },
        "id": "h1ez1ZV-0fKv",
        "outputId": "f53813ae-b1ad-406a-c36d-b4c47ca37e92"
      },
      "source": [
        "#evaluating on whole set\n",
        "#preprocess the entire test dataframe and the test labels\n",
        "X_test = pad_encode_sentences(df_test)\n",
        "X_test = np.array(X_test)\n",
        "\n",
        "y_test = pad_labels(df_test)\n",
        "y_test = y_test.squeeze(axis=-1)\n",
        "\n",
        "#make predictions on the preprocessed data\n",
        "y_test_pred = model.predict(X_test)\n",
        "y_test_pred = np.argmax(y_test_pred,axis=-1)"
      ],
      "execution_count": 26,
      "outputs": [
        {
          "output_type": "display_data",
          "data": {
            "application/vnd.jupyter.widget-view+json": {
              "model_id": "b371ae149dfe4b8782a851aab3509501",
              "version_minor": 0,
              "version_major": 2
            },
            "text/plain": [
              "HBox(children=(FloatProgress(value=0.0, max=10000.0), HTML(value='')))"
            ]
          },
          "metadata": {
            "tags": []
          }
        },
        {
          "output_type": "stream",
          "text": [
            "\n"
          ],
          "name": "stdout"
        }
      ]
    },
    {
      "cell_type": "code",
      "metadata": {
        "id": "HTrVOGT61HV5",
        "colab": {
          "base_uri": "https://localhost:8080/",
          "height": 204
        },
        "outputId": "1efd6ef0-f3f0-44a1-e6d1-2d09400705e1"
      },
      "source": [
        "f1_score_macro = []\n",
        "f1_score_micro = []\n",
        "f1_score_weighted = []\n",
        "\n",
        "for i in range(len(X_test)):\n",
        "  f1_macro = f1_score(y_test[i],y_test_pred[i],average='macro')\n",
        "  f1_micro = f1_score(y_test[i],y_test_pred[i],average='micro')\n",
        "  f1_weighted = f1_score(y_test[i],y_test_pred[i],average='weighted')\n",
        "\n",
        "  f1_score_macro.append(f1_macro)\n",
        "  f1_score_micro.append(f1_micro)\n",
        "  f1_score_weighted.append(f1_weighted)\n",
        "\n",
        "df_f1_score = pd.DataFrame()\n",
        "df_f1_score['f1_macro'] =  f1_score_macro\n",
        "df_f1_score['f1_micro'] =  f1_score_micro\n",
        "df_f1_score['f1_weight'] = f1_score_weighted\n",
        "\n",
        "df_f1_score.head()"
      ],
      "execution_count": 27,
      "outputs": [
        {
          "output_type": "execute_result",
          "data": {
            "text/html": [
              "<div>\n",
              "<style scoped>\n",
              "    .dataframe tbody tr th:only-of-type {\n",
              "        vertical-align: middle;\n",
              "    }\n",
              "\n",
              "    .dataframe tbody tr th {\n",
              "        vertical-align: top;\n",
              "    }\n",
              "\n",
              "    .dataframe thead th {\n",
              "        text-align: right;\n",
              "    }\n",
              "</style>\n",
              "<table border=\"1\" class=\"dataframe\">\n",
              "  <thead>\n",
              "    <tr style=\"text-align: right;\">\n",
              "      <th></th>\n",
              "      <th>f1_macro</th>\n",
              "      <th>f1_micro</th>\n",
              "      <th>f1_weight</th>\n",
              "    </tr>\n",
              "  </thead>\n",
              "  <tbody>\n",
              "    <tr>\n",
              "      <th>0</th>\n",
              "      <td>0.730159</td>\n",
              "      <td>0.862069</td>\n",
              "      <td>0.825944</td>\n",
              "    </tr>\n",
              "    <tr>\n",
              "      <th>1</th>\n",
              "      <td>0.822660</td>\n",
              "      <td>0.896552</td>\n",
              "      <td>0.890946</td>\n",
              "    </tr>\n",
              "    <tr>\n",
              "      <th>2</th>\n",
              "      <td>0.750000</td>\n",
              "      <td>0.931034</td>\n",
              "      <td>0.922414</td>\n",
              "    </tr>\n",
              "    <tr>\n",
              "      <th>3</th>\n",
              "      <td>0.869048</td>\n",
              "      <td>0.931034</td>\n",
              "      <td>0.931034</td>\n",
              "    </tr>\n",
              "    <tr>\n",
              "      <th>4</th>\n",
              "      <td>0.777778</td>\n",
              "      <td>0.896552</td>\n",
              "      <td>0.896552</td>\n",
              "    </tr>\n",
              "  </tbody>\n",
              "</table>\n",
              "</div>"
            ],
            "text/plain": [
              "   f1_macro  f1_micro  f1_weight\n",
              "0  0.730159  0.862069   0.825944\n",
              "1  0.822660  0.896552   0.890946\n",
              "2  0.750000  0.931034   0.922414\n",
              "3  0.869048  0.931034   0.931034\n",
              "4  0.777778  0.896552   0.896552"
            ]
          },
          "metadata": {
            "tags": []
          },
          "execution_count": 27
        }
      ]
    },
    {
      "cell_type": "code",
      "metadata": {
        "id": "FXcF8FpQKmfw"
      },
      "source": [
        "#get the submodel till the attention layer\n",
        "sub_model = Model(inputs=model.layers[0].input, outputs=model.layers[5].output)"
      ],
      "execution_count": 28,
      "outputs": []
    },
    {
      "cell_type": "code",
      "metadata": {
        "colab": {
          "base_uri": "https://localhost:8080/",
          "height": 644
        },
        "id": "1deLHHyHLHi8",
        "outputId": "fdd2e6d6-c460-404a-d6a0-d94fd93c4710"
      },
      "source": [
        "keras.utils.plot_model(sub_model,show_shapes=True)"
      ],
      "execution_count": 29,
      "outputs": [
        {
          "output_type": "execute_result",
          "data": {
            "image/png": "[encoded data removed]",
            "text/plain": [
              "<IPython.core.display.Image object>"
            ]
          },
          "metadata": {
            "tags": []
          },
          "execution_count": 29
        }
      ]
    },
    {
      "cell_type": "code",
      "metadata": {
        "colab": {
          "base_uri": "https://localhost:8080/",
          "height": 66,
          "referenced_widgets": [
            "13216b8b03a1463d82822257d717a4cb",
            "27f692dee9a6476482c97abc396eaaae",
            "05f7f72e3c654dd6ba4a736377ecf836",
            "a2ea6230b878404fb114e88cd212c311",
            "c90925230c704199b69866d85b30f7da",
            "f32aa90b90944f45aa3968028c77c15b",
            "e5328c32051d4d14be1a4816188c1de2",
            "87e1eb2d6ecc43518734232800a2ef2a"
          ]
        },
        "id": "FLleoNrxLkpE",
        "outputId": "52f4dca9-a586-47dd-f7bc-9b31dc2ebaf4"
      },
      "source": [
        "#select a random instance\n",
        "random_story = df_test[df_test['story_id'] == random.choice(list(df_test.story_id.unique()))]\n",
        "\n",
        "#preprocess the dataframe for the story_id and label\n",
        "x_enc_random = pad_encode_sentences(random_story)\n",
        "x_enc_random = np.array(x_enc_random)\n",
        "\n",
        "y_random = pad_labels(random_story)\n",
        "y_random = y_random.reshape(-1, max_story_length, 1)"
      ],
      "execution_count": 30,
      "outputs": [
        {
          "output_type": "display_data",
          "data": {
            "application/vnd.jupyter.widget-view+json": {
              "model_id": "13216b8b03a1463d82822257d717a4cb",
              "version_minor": 0,
              "version_major": 2
            },
            "text/plain": [
              "HBox(children=(FloatProgress(value=0.0, max=1.0), HTML(value='')))"
            ]
          },
          "metadata": {
            "tags": []
          }
        },
        {
          "output_type": "stream",
          "text": [
            "\n"
          ],
          "name": "stdout"
        }
      ]
    },
    {
      "cell_type": "code",
      "metadata": {
        "colab": {
          "base_uri": "https://localhost:8080/"
        },
        "id": "nNx2ifkVMDEz",
        "outputId": "160a4078-a7ab-40c0-f588-ed42d92b2669"
      },
      "source": [
        "#use original model to get the final predictions\n",
        "y_pred = model.predict(pad_enc_story)\n",
        "y_pred = y_pred.argmax(axis=-1)\n",
        "print(y_pred)\n",
        "print(y_pred.shape)"
      ],
      "execution_count": 31,
      "outputs": [
        {
          "output_type": "stream",
          "text": [
            "[[2 2 1 1 1 1 1 1 1 1 1 1 1 1 1 1 1 1 1 0 0 0 0 0 0 0 0 0 0]]\n",
            "(1, 29)\n"
          ],
          "name": "stdout"
        }
      ]
    },
    {
      "cell_type": "code",
      "metadata": {
        "colab": {
          "base_uri": "https://localhost:8080/"
        },
        "id": "vcKsuqG-MMZR",
        "outputId": "a60cec6e-eefa-485e-8e9c-68729b4e105f"
      },
      "source": [
        "#use sub model to get the attention predictions\n",
        "y_pred_att_weights = sub_model.predict(pad_enc_story)\n",
        "print(y_pred_att_weights)\n",
        "print(y_pred_att_weights.shape)"
      ],
      "execution_count": 32,
      "outputs": [
        {
          "output_type": "stream",
          "text": [
            "[[[0.02658757 0.02660767 0.02660939 ... 0.0262739  0.0260264  0.00373804]\n",
            "  [0.02579126 0.02579133 0.02579144 ... 0.02579153 0.0257915  0.02565184]\n",
            "  [0.02554973 0.02554356 0.02554497 ... 0.02555036 0.02554153 0.024992  ]\n",
            "  ...\n",
            "  [0.02497821 0.02497821 0.02497821 ... 0.02497821 0.02497821 0.02584985]\n",
            "  [0.02497821 0.02497821 0.02497821 ... 0.02497821 0.02497821 0.02584985]\n",
            "  [0.02497821 0.02497821 0.02497821 ... 0.02497821 0.02497821 0.02584985]]]\n",
            "(1, 29, 40)\n"
          ],
          "name": "stdout"
        }
      ]
    },
    {
      "cell_type": "code",
      "metadata": {
        "colab": {
          "base_uri": "https://localhost:8080/"
        },
        "id": "NxGSm1qmfBwX",
        "outputId": "60e6fe6a-e671-4984-942e-ed048349eb29"
      },
      "source": [
        "#get the index of summary candidates\n",
        "summary_candidates_id = np.where(y_pred == 2)\n",
        "summary_candidates_id"
      ],
      "execution_count": 33,
      "outputs": [
        {
          "output_type": "execute_result",
          "data": {
            "text/plain": [
              "(array([0, 0]), array([0, 1]))"
            ]
          },
          "metadata": {
            "tags": []
          },
          "execution_count": 33
        }
      ]
    },
    {
      "cell_type": "code",
      "metadata": {
        "colab": {
          "base_uri": "https://localhost:8080/"
        },
        "id": "17xqWo0jl2VH",
        "outputId": "135b7514-cd9f-4718-b4a9-aafc286eb009"
      },
      "source": [
        "#get predicted values of summary candidates\n",
        "summary_candidates = pad_enc_story[summary_candidates_id]\n",
        "summary_candidates.shape"
      ],
      "execution_count": 34,
      "outputs": [
        {
          "output_type": "execute_result",
          "data": {
            "text/plain": [
              "(2, 40)"
            ]
          },
          "metadata": {
            "tags": []
          },
          "execution_count": 34
        }
      ]
    },
    {
      "cell_type": "code",
      "metadata": {
        "colab": {
          "base_uri": "https://localhost:8080/"
        },
        "id": "Lg9Kl_asfVzN",
        "outputId": "c11b1a59-0d04-47c5-d73c-5d3cb04d00c6"
      },
      "source": [
        "#get the attention weights of summary candidates\n",
        "att_weights_summary_candidates = y_pred_att_weights[summary_candidates_id]\n",
        "att_weights_summary_candidates.shape"
      ],
      "execution_count": 35,
      "outputs": [
        {
          "output_type": "execute_result",
          "data": {
            "text/plain": [
              "(2, 40)"
            ]
          },
          "metadata": {
            "tags": []
          },
          "execution_count": 35
        }
      ]
    },
    {
      "cell_type": "code",
      "metadata": {
        "colab": {
          "base_uri": "https://localhost:8080/"
        },
        "id": "M1_8s_pNm4Kr",
        "outputId": "942c0068-927c-467b-e3fc-a79f4c6e0a6a"
      },
      "source": [
        "# get one candidate randomly\n",
        "idx = np.random.choice(len(summary_candidates), 1)\n",
        "\n",
        "sentence = summary_candidates[idx]\n",
        "\n",
        "weights = att_weights_summary_candidates[idx]\n",
        "\n",
        "sentence.shape, weights.shape"
      ],
      "execution_count": 38,
      "outputs": [
        {
          "output_type": "execute_result",
          "data": {
            "text/plain": [
              "((1, 40), (1, 40))"
            ]
          },
          "metadata": {
            "tags": []
          },
          "execution_count": 38
        }
      ]
    },
    {
      "cell_type": "code",
      "metadata": {
        "colab": {
          "base_uri": "https://localhost:8080/"
        },
        "id": "kVizOkdFnQta",
        "outputId": "40fe09ee-bc31-4e67-8624-bb420c98c080"
      },
      "source": [
        "sentence"
      ],
      "execution_count": 39,
      "outputs": [
        {
          "output_type": "execute_result",
          "data": {
            "text/plain": [
              "array([[ 69459, 120542, 104426,  31973, 149354,  32455, 147318, 140277,\n",
              "         43696, 130142, 114211,  88690,  72125,  78888,  52390,  63284,\n",
              "         62802, 149354,  13292,  97058,  96021, 106271, 147223, 147274,\n",
              "         72489,  39931, 144918,      2,  48365,  64723,  36190, 104426,\n",
              "        106265,   9445,  91031,  21081, 147292, 102863, 147318,  62424]],\n",
              "      dtype=int32)"
            ]
          },
          "metadata": {
            "tags": []
          },
          "execution_count": 39
        }
      ]
    },
    {
      "cell_type": "code",
      "metadata": {
        "colab": {
          "base_uri": "https://localhost:8080/",
          "height": 54
        },
        "id": "Ama4eMTEnwse",
        "outputId": "898f6101-3e80-4fa1-cfc8-8d3d085492ca"
      },
      "source": [
        "sentence_deocded = [idx2word.get(idx) for idx in sent[0]]\n",
        "' '.join(sentence_deocded)"
      ],
      "execution_count": 40,
      "outputs": [
        {
          "output_type": "execute_result",
          "data": {
            "application/vnd.google.colaboratory.intrinsic+json": {
              "type": "string"
            },
            "text/plain": [
              "'wired its fun to imagine what michael mapes studio must look like you would assume that the new yorkbased artists workspace has to resemble the lab of a harebrained entomologist with test tubes specimen bags and pushpins strewn about PAD'"
            ]
          },
          "metadata": {
            "tags": []
          },
          "execution_count": 40
        }
      ]
    },
    {
      "cell_type": "code",
      "metadata": {
        "colab": {
          "base_uri": "https://localhost:8080/",
          "height": 204
        },
        "id": "bLdEtWjcfjkA",
        "outputId": "0a3652c0-7fe1-4ec2-e1fd-012bb4551f3f"
      },
      "source": [
        "# create a temporary dataframe\n",
        "df = pd.DataFrame()\n",
        "df['words'] = (sentence_deocded)\n",
        "df['attention_weights'] = weights.squeeze()\n",
        "\n",
        "# filter out the top weights\n",
        "df_sub = df.sort_values(by='attention_weights',ascending=False).head(10)\n",
        "df_sub.head()"
      ],
      "execution_count": 41,
      "outputs": [
        {
          "output_type": "execute_result",
          "data": {
            "text/html": [
              "<div>\n",
              "<style scoped>\n",
              "    .dataframe tbody tr th:only-of-type {\n",
              "        vertical-align: middle;\n",
              "    }\n",
              "\n",
              "    .dataframe tbody tr th {\n",
              "        vertical-align: top;\n",
              "    }\n",
              "\n",
              "    .dataframe thead th {\n",
              "        text-align: right;\n",
              "    }\n",
              "</style>\n",
              "<table border=\"1\" class=\"dataframe\">\n",
              "  <thead>\n",
              "    <tr style=\"text-align: right;\">\n",
              "      <th></th>\n",
              "      <th>words</th>\n",
              "      <th>attention_weights</th>\n",
              "    </tr>\n",
              "  </thead>\n",
              "  <tbody>\n",
              "    <tr>\n",
              "      <th>37</th>\n",
              "      <td>strewn</td>\n",
              "      <td>0.025792</td>\n",
              "    </tr>\n",
              "    <tr>\n",
              "      <th>38</th>\n",
              "      <td>about</td>\n",
              "      <td>0.025792</td>\n",
              "    </tr>\n",
              "    <tr>\n",
              "      <th>19</th>\n",
              "      <td>artists</td>\n",
              "      <td>0.025791</td>\n",
              "    </tr>\n",
              "    <tr>\n",
              "      <th>2</th>\n",
              "      <td>fun</td>\n",
              "      <td>0.025791</td>\n",
              "    </tr>\n",
              "    <tr>\n",
              "      <th>36</th>\n",
              "      <td>pushpins</td>\n",
              "      <td>0.025791</td>\n",
              "    </tr>\n",
              "  </tbody>\n",
              "</table>\n",
              "</div>"
            ],
            "text/plain": [
              "       words  attention_weights\n",
              "37    strewn           0.025792\n",
              "38     about           0.025792\n",
              "19   artists           0.025791\n",
              "2        fun           0.025791\n",
              "36  pushpins           0.025791"
            ]
          },
          "metadata": {
            "tags": []
          },
          "execution_count": 41
        }
      ]
    },
    {
      "cell_type": "code",
      "metadata": {
        "colab": {
          "base_uri": "https://localhost:8080/",
          "height": 279
        },
        "id": "k6fGQgteoDvC",
        "outputId": "5d4e1af3-0805-4da5-83e7-8ab895391c86"
      },
      "source": [
        "import seaborn as sns\n",
        "import matplotlib.pyplot as plt\n",
        "%matplotlib inline\n",
        "\n",
        "sns.barplot(x=\"words\", y=\"attention_weights\", data=df_sub)\n",
        "plt.show()"
      ],
      "execution_count": 42,
      "outputs": [
        {
          "output_type": "display_data",
          "data": {
            "image/png": "[encoded data removed]",
            "text/plain": [
              "<Figure size 432x288 with 1 Axes>"
            ]
          },
          "metadata": {
            "tags": [],
            "needs_background": "light"
          }
        }
      ]
    }
  ]
}