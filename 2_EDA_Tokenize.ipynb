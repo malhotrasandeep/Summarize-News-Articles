{
 "cells": [
  {
   "cell_type": "code",
   "execution_count": 1,
   "metadata": {},
   "outputs": [],
   "source": [
    "import pickle\n",
    "from tqdm.notebook import tqdm\n",
    "import pandas as pd\n",
    "import random\n",
    "import tensorflow as tf\n",
    "import numpy as np"
   ]
  },
  {
   "cell_type": "code",
   "execution_count": 2,
   "metadata": {},
   "outputs": [],
   "source": [
    "#set the ransom seed to have reproducible results\n",
    "random.seed(42)\n",
    "tf.random.set_seed(42)\n",
    "np.random.seed(42)"
   ]
  },
  {
   "cell_type": "code",
   "execution_count": 3,
   "metadata": {},
   "outputs": [],
   "source": [
    "data_path = 'data/'\n",
    "pickle_path = 'pickle/'"
   ]
  },
  {
   "cell_type": "code",
   "execution_count": 4,
   "metadata": {},
   "outputs": [
    {
     "data": {
      "text/html": [
       "<div>\n",
       "<style scoped>\n",
       "    .dataframe tbody tr th:only-of-type {\n",
       "        vertical-align: middle;\n",
       "    }\n",
       "\n",
       "    .dataframe tbody tr th {\n",
       "        vertical-align: top;\n",
       "    }\n",
       "\n",
       "    .dataframe thead th {\n",
       "        text-align: right;\n",
       "    }\n",
       "</style>\n",
       "<table border=\"1\" class=\"dataframe\">\n",
       "  <thead>\n",
       "    <tr style=\"text-align: right;\">\n",
       "      <th></th>\n",
       "      <th>story_id</th>\n",
       "      <th>sentence_id</th>\n",
       "      <th>sentence</th>\n",
       "      <th>label</th>\n",
       "    </tr>\n",
       "  </thead>\n",
       "  <tbody>\n",
       "    <tr>\n",
       "      <th>0</th>\n",
       "      <td>0</td>\n",
       "      <td>0</td>\n",
       "      <td>at the start of a big week for the higgs boson...</td>\n",
       "      <td>0</td>\n",
       "    </tr>\n",
       "    <tr>\n",
       "      <th>1</th>\n",
       "      <td>0</td>\n",
       "      <td>1</td>\n",
       "      <td>the scientists outlined their final analysis b...</td>\n",
       "      <td>0</td>\n",
       "    </tr>\n",
       "    <tr>\n",
       "      <th>2</th>\n",
       "      <td>0</td>\n",
       "      <td>2</td>\n",
       "      <td>what is the higgs boson and why is it important</td>\n",
       "      <td>0</td>\n",
       "    </tr>\n",
       "    <tr>\n",
       "      <th>3</th>\n",
       "      <td>0</td>\n",
       "      <td>3</td>\n",
       "      <td>their announcement came two days before resear...</td>\n",
       "      <td>0</td>\n",
       "    </tr>\n",
       "    <tr>\n",
       "      <th>4</th>\n",
       "      <td>0</td>\n",
       "      <td>4</td>\n",
       "      <td>our data strongly point toward the existence o...</td>\n",
       "      <td>0</td>\n",
       "    </tr>\n",
       "  </tbody>\n",
       "</table>\n",
       "</div>"
      ],
      "text/plain": [
       "   story_id  sentence_id                                           sentence  \\\n",
       "0         0            0  at the start of a big week for the higgs boson...   \n",
       "1         0            1  the scientists outlined their final analysis b...   \n",
       "2         0            2    what is the higgs boson and why is it important   \n",
       "3         0            3  their announcement came two days before resear...   \n",
       "4         0            4  our data strongly point toward the existence o...   \n",
       "\n",
       "   label  \n",
       "0      0  \n",
       "1      0  \n",
       "2      0  \n",
       "3      0  \n",
       "4      0  "
      ]
     },
     "execution_count": 4,
     "metadata": {},
     "output_type": "execute_result"
    }
   ],
   "source": [
    "#get the dataframe from the pickle stored in previous notebook\n",
    "with open(pickle_path + 'stories_df.pkl','rb') as file:\n",
    "    df = pickle.load(file)\n",
    "    \n",
    "df.head(5)"
   ]
  },
  {
   "cell_type": "code",
   "execution_count": 5,
   "metadata": {},
   "outputs": [
    {
     "name": "stdout",
     "output_type": "stream",
     "text": [
      "<class 'pandas.core.frame.DataFrame'>\n",
      "Int64Index: 92465 entries, 0 to 92464\n",
      "Data columns (total 2 columns):\n",
      " #   Column       Non-Null Count  Dtype\n",
      "---  ------       --------------  -----\n",
      " 0   story_id     92465 non-null  int64\n",
      " 1   sentence_id  92465 non-null  int64\n",
      "dtypes: int64(2)\n",
      "memory usage: 2.1 MB\n",
      "None\n",
      "---------------\n",
      "           story_id   sentence_id\n",
      "count  92465.000000  92465.000000\n",
      "mean   46289.515947     21.333683\n",
      "std    26726.811213     11.713029\n",
      "min        0.000000      1.000000\n",
      "25%    23145.000000     13.000000\n",
      "50%    46290.000000     19.000000\n",
      "75%    69433.000000     27.000000\n",
      "max    92578.000000    352.000000\n"
     ]
    }
   ],
   "source": [
    "#view some basic statistics of the data\n",
    "df_temp = df.groupby(by='story_id',as_index=False).count()[['story_id','sentence_id']]\n",
    "print(df_temp.info())\n",
    "print(\"---------------\")\n",
    "print(df_temp.describe())"
   ]
  },
  {
   "cell_type": "markdown",
   "metadata": {},
   "source": [
    "No. of stories - 92465\n",
    "75% of the stories are less 27 in length (story length = no. of sentences in the story), let's view the distribution"
   ]
  },
  {
   "cell_type": "code",
   "execution_count": 6,
   "metadata": {},
   "outputs": [
    {
     "name": "stdout",
     "output_type": "stream",
     "text": [
      "total stories: 74220\n"
     ]
    }
   ],
   "source": [
    "#get the stories which have length less than 30\n",
    "dfs = df_temp[df_temp['sentence_id'] < 30]\n",
    "print(\"total stories:\",len(dfs))\n",
    "\n",
    "#get 50K stories out of the above\n",
    "dfs = dfs.sample(n=50000)\n",
    "\n",
    "#split in train, validate and test\n",
    "df_train = dfs[:30000]\n",
    "df_val = dfs[30000:40000]\n",
    "df_test = dfs[40000:]\n",
    "\n",
    "#get the rows with the above story ids from the main dataframe\n",
    "df_train = df[df['story_id'].isin(list(df_train['story_id']))]\n",
    "df_val = df[df['story_id'].isin(list(df_val['story_id']))]\n",
    "df_test = df[df['story_id'].isin(list(df_test['story_id']))]"
   ]
  },
  {
   "cell_type": "code",
   "execution_count": 7,
   "metadata": {},
   "outputs": [],
   "source": [
    "#store in file system as csv\n",
    "df_train.to_csv(data_path + 'train.csv')\n",
    "df_val.to_csv(data_path + 'val.csv')\n",
    "df_test.to_csv(data_path + 'test.csv')"
   ]
  },
  {
   "cell_type": "code",
   "execution_count": 8,
   "metadata": {},
   "outputs": [],
   "source": [
    "df1 = df_train.groupby(by='story_id',as_index=False).count()[['story_id','sentence_id']]\n",
    "df1.rename(columns={'sentence_id':'story_length'},inplace=True)\n",
    "\n",
    "df2 = df_train.copy()\n",
    "df2['sentence_length'] = df2['sentence'].apply(lambda x:len(x.split()))"
   ]
  },
  {
   "cell_type": "code",
   "execution_count": 9,
   "metadata": {},
   "outputs": [
    {
     "data": {
      "image/png": "[encoded data removed]",
      "text/plain": [
       "<Figure size 432x288 with 1 Axes>"
      ]
     },
     "metadata": {
      "needs_background": "light"
     },
     "output_type": "display_data"
    }
   ],
   "source": [
    "#plot the story length\n",
    "df1.story_length.plot.hist(bins=50);"
   ]
  },
  {
   "cell_type": "code",
   "execution_count": 10,
   "metadata": {},
   "outputs": [
    {
     "data": {
      "text/plain": [
       "count    30000.000000\n",
       "mean        16.839600\n",
       "std          6.228469\n",
       "min          1.000000\n",
       "25%         12.000000\n",
       "50%         16.000000\n",
       "75%         22.000000\n",
       "max         29.000000\n",
       "Name: story_length, dtype: float64"
      ]
     },
     "execution_count": 10,
     "metadata": {},
     "output_type": "execute_result"
    }
   ],
   "source": [
    "df1.story_length.describe()"
   ]
  },
  {
   "cell_type": "code",
   "execution_count": 11,
   "metadata": {},
   "outputs": [
    {
     "data": {
      "image/png": "[encoded data removed]",
      "text/plain": [
       "<Figure size 432x288 with 1 Axes>"
      ]
     },
     "metadata": {
      "needs_background": "light"
     },
     "output_type": "display_data"
    }
   ],
   "source": [
    "#plot the sentence length\n",
    "df2.sentence_length.plot.hist(bins=100);"
   ]
  },
  {
   "cell_type": "code",
   "execution_count": 12,
   "metadata": {},
   "outputs": [
    {
     "data": {
      "text/plain": [
       "count    505188.000000\n",
       "mean         31.592126\n",
       "std          18.159800\n",
       "min           0.000000\n",
       "25%          19.000000\n",
       "50%          29.000000\n",
       "75%          41.000000\n",
       "max         519.000000\n",
       "Name: sentence_length, dtype: float64"
      ]
     },
     "execution_count": 12,
     "metadata": {},
     "output_type": "execute_result"
    }
   ],
   "source": [
    "df2.sentence_length.describe()"
   ]
  },
  {
   "cell_type": "code",
   "execution_count": 57,
   "metadata": {},
   "outputs": [
    {
     "name": "stdout",
     "output_type": "stream",
     "text": [
      "max story length: 29\n",
      "max sentence length: 519\n"
     ]
    }
   ],
   "source": [
    "max_story_length = df1.story_length.max()\n",
    "print(\"max story length:\", df1.story_length.max())\n",
    "print(\"max sentence length:\", df2.sentence_length.max())"
   ]
  },
  {
   "cell_type": "code",
   "execution_count": 36,
   "metadata": {},
   "outputs": [
    {
     "name": "stdout",
     "output_type": "stream",
     "text": [
      "{0: 1, 1: 2, 'PAD': 0}\n"
     ]
    }
   ],
   "source": [
    "#create a label to index dictionary. add PAD for index 0\n",
    "label2idx = {idx:val+1 for idx, val in enumerate(df_train.label.unique())}\n",
    "label2idx['PAD'] = 0\n",
    "\n",
    "print(label2idx)"
   ]
  },
  {
   "cell_type": "code",
   "execution_count": 49,
   "metadata": {},
   "outputs": [
    {
     "data": {
      "text/plain": [
       "166675"
      ]
     },
     "execution_count": 49,
     "metadata": {},
     "output_type": "execute_result"
    }
   ],
   "source": [
    "#retrieve all unique words\n",
    "sentences = (' ').join(list(df_train.sentence.values))\n",
    "words = list(set(sentences.split()))\n",
    "words.sort()\n",
    "len(words)"
   ]
  },
  {
   "cell_type": "code",
   "execution_count": 53,
   "metadata": {},
   "outputs": [],
   "source": [
    "#create word to index dictionary\n",
    "word2idx = {word:i+2 for i, word in enumerate(words)}\n",
    "word2idx['UNK'] = 1\n",
    "word2idx['PAD'] = 0\n",
    "\n",
    "#create index to word dictionary\n",
    "idx2word = {v:k for k, v in word2idx.items()}"
   ]
  },
  {
   "cell_type": "code",
   "execution_count": 58,
   "metadata": {},
   "outputs": [],
   "source": [
    "#save label2idx, word2idx and idx2word\n",
    "\n",
    "with open(pickle_path + 'label2idx.pkl','wb') as fl:\n",
    "    pickle.dump(label2idx, fl)\n",
    "\n",
    "with open(pickle_path + 'word2idx.pkl','wb') as fl:\n",
    "    pickle.dump(word2idx, fl)\n",
    "\n",
    "with open(pickle_path + 'idx2word.pkl','wb') as fl:\n",
    "    pickle.dump(idx2word, fl)"
   ]
  },
  {
   "cell_type": "code",
   "execution_count": 59,
   "metadata": {},
   "outputs": [],
   "source": [
    "#set the max sentence length at 40\n",
    "max_sentence_length = 40"
   ]
  },
  {
   "cell_type": "code",
   "execution_count": 63,
   "metadata": {},
   "outputs": [],
   "source": [
    "#encode the sentences with max length of max_sentence_length\n",
    "def pad_encode_sentences(df):\n",
    "    df = df.groupby('story_id').agg({'sentence':','.join})\n",
    "    pad_enc_sentences = []\n",
    "    for sentences in tqdm(list(df.sentence)):\n",
    "        enc_sent = [[word2idx.get(w,1) for w in sent.split()[:max_sentence_length]] for sent in sentences.split(',')]\n",
    "        if len(enc_sent) < max_story_length:\n",
    "            enc_sent.extend([[0 for p in range(max_sentence_length)] for i in range(max_story_length - len(enc_sent))])\n",
    "        padded_sen = tf.keras.preprocessing.sequence.pad_sequences(enc_sent,maxlen = max_sentence_length,padding='post',truncating='post')\n",
    "        pad_enc_sentences.append(padded_sen)\n",
    "    return pad_enc_sentences"
   ]
  },
  {
   "cell_type": "code",
   "execution_count": 64,
   "metadata": {},
   "outputs": [],
   "source": [
    "#pad the labels with max length of story\n",
    "def pad_labels(df):\n",
    "    dfx = df.copy()\n",
    "    dfx['label'] = dfx['label'] + 1\n",
    "    dfx = dfx[['story_id','label']].groupby('story_id').agg(lambda col: col.tolist()).reset_index()\n",
    "    labels = tf.keras.preprocessing.sequence.pad_sequences(list(dfx.label),maxlen = max_story_length, padding='post',truncating='post')\n",
    "    labels = labels.reshape(-1, max_story_length, 1)\n",
    "    return labels"
   ]
  },
  {
   "cell_type": "code",
   "execution_count": 65,
   "metadata": {},
   "outputs": [
    {
     "data": {
      "application/vnd.jupyter.widget-view+json": {
       "model_id": "82307308f261419d9722e9b657c66671",
       "version_major": 2,
       "version_minor": 0
      },
      "text/plain": [
       "  0%|          | 0/30000 [00:00<?, ?it/s]"
      ]
     },
     "metadata": {},
     "output_type": "display_data"
    },
    {
     "data": {
      "application/vnd.jupyter.widget-view+json": {
       "model_id": "b07d16f486ae4d4cb8f9c41971574a36",
       "version_major": 2,
       "version_minor": 0
      },
      "text/plain": [
       "  0%|          | 0/10000 [00:00<?, ?it/s]"
      ]
     },
     "metadata": {},
     "output_type": "display_data"
    },
    {
     "data": {
      "application/vnd.jupyter.widget-view+json": {
       "model_id": "734f4a3c44b845388061644509b0d21f",
       "version_major": 2,
       "version_minor": 0
      },
      "text/plain": [
       "  0%|          | 0/10000 [00:00<?, ?it/s]"
      ]
     },
     "metadata": {},
     "output_type": "display_data"
    }
   ],
   "source": [
    "pad_enc_sentences_train = pad_encode_sentences(df_train)\n",
    "pad_enc_sentences_val = pad_encode_sentences(df_val)\n",
    "pad_enc_sentences_test = pad_encode_sentences(df_test)\n",
    "\n",
    "pad_enc_sentences_train = np.array(pad_enc_sentences_train)\n",
    "pad_enc_sentences_val = np.array(pad_enc_sentences_val)\n",
    "pad_enc_sentences_test = np.array(pad_enc_sentences_test)\n",
    "\n",
    "padded_labels_train = pad_labels(df_train)\n",
    "padded_labels_val = pad_labels(df_val)\n",
    "padded_labels_test = pad_labels(df_test)"
   ]
  },
  {
   "cell_type": "code",
   "execution_count": 66,
   "metadata": {},
   "outputs": [],
   "source": [
    "with open(pickle_path + 'padded_data_train.pkl', 'wb') as fl:\n",
    "    pickle.dump(pad_enc_sentences_train,fl)\n",
    "\n",
    "with open(pickle_path + 'padded_data_val.pkl', 'wb') as fl:\n",
    "    pickle.dump(pad_enc_sentences_val,fl)\n",
    "\n",
    "with open(pickle_path + 'padded_data_test.pkl', 'wb') as fl:\n",
    "    pickle.dump(pad_enc_sentences_test, fl)\n",
    "\n",
    "with open(pickle_path + 'padded_labels_train.pkl', 'wb') as fl:\n",
    "    pickle.dump(padded_labels_train,fl)\n",
    "\n",
    "with open(pickle_path + 'padded_labels_val.pkl', 'wb') as fl:\n",
    "    pickle.dump(padded_labels_val,fl)\n",
    "\n",
    "with open(pickle_path + 'padded_labels_test.pkl', 'wb') as fl:\n",
    "    pickle.dump(padded_labels_test, fl)"
   ]
  },
  {
   "cell_type": "code",
   "execution_count": null,
   "metadata": {},
   "outputs": [],
   "source": []
  }
 ],
 "metadata": {
  "kernelspec": {
   "display_name": "Python 3",
   "language": "python",
   "name": "python3"
  },
  "language_info": {
   "codemirror_mode": {
    "name": "ipython",
    "version": 3
   },
   "file_extension": ".py",
   "mimetype": "text/x-python",
   "name": "python",
   "nbconvert_exporter": "python",
   "pygments_lexer": "ipython3",
   "version": "3.8.7"
  }
 },
 "nbformat": 4,
 "nbformat_minor": 4
}
